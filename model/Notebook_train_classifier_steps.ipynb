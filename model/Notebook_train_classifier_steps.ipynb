{
 "cells": [
  {
   "cell_type": "markdown",
   "metadata": {},
   "source": [
    "# ML Pipeline Preparation"
   ]
  },
  {
   "cell_type": "markdown",
   "metadata": {},
   "source": [
    "#### 1) importing libs and creating dataframes"
   ]
  },
  {
   "cell_type": "code",
   "execution_count": 36,
   "metadata": {},
   "outputs": [
    {
     "name": "stderr",
     "output_type": "stream",
     "text": [
      "[nltk_data] Downloading package punkt to\n",
      "[nltk_data]     C:\\Users\\ogzpython\\AppData\\Roaming\\nltk_data...\n",
      "[nltk_data]   Package punkt is already up-to-date!\n",
      "[nltk_data] Downloading package stopwords to\n",
      "[nltk_data]     C:\\Users\\ogzpython\\AppData\\Roaming\\nltk_data...\n",
      "[nltk_data]   Package stopwords is already up-to-date!\n",
      "[nltk_data] Downloading package wordnet to\n",
      "[nltk_data]     C:\\Users\\ogzpython\\AppData\\Roaming\\nltk_data...\n",
      "[nltk_data]   Package wordnet is already up-to-date!\n"
     ]
    }
   ],
   "source": [
    "import pandas as pd\n",
    "import numpy as np\n",
    "from sqlalchemy import create_engine\n",
    "import re\n",
    "import nltk\n",
    "nltk.download('punkt')\n",
    "nltk.download('stopwords')\n",
    "nltk.download('wordnet')\n",
    "from nltk.corpus import stopwords\n",
    "from nltk.tokenize import word_tokenize\n",
    "from nltk.stem.wordnet import WordNetLemmatizer\n",
    "\n",
    "from sklearn.pipeline import Pipeline\n",
    "from sklearn.metrics import confusion_matrix\n",
    "from sklearn.model_selection import train_test_split\n",
    "from sklearn.multioutput import MultiOutputClassifier\n",
    "from sklearn.neighbors import KNeighborsClassifier\n",
    "from sklearn.ensemble import RandomForestClassifier\n",
    "from sklearn.feature_extraction.text import CountVectorizer, TfidfTransformer\n",
    "from sklearn.metrics import classification_report\n",
    "from sklearn.model_selection import GridSearchCV\n",
    "import pickle"
   ]
  },
  {
   "cell_type": "code",
   "execution_count": null,
   "metadata": {},
   "outputs": [],
   "source": []
  },
  {
   "cell_type": "code",
   "execution_count": 3,
   "metadata": {},
   "outputs": [],
   "source": [
    "engine= create_engine('sqlite:///C:\\\\Users\\\\ogzpython\\\\Desktop\\\\ml\\\\response_ml\\\\Disaster_Response_Project\\\\data\\\\dis_res.db')\n",
    "# uncoment next if you need to!\n",
    "# engine= create_engine('sqlite:///dis_res.db')"
   ]
  },
  {
   "cell_type": "code",
   "execution_count": 4,
   "metadata": {},
   "outputs": [],
   "source": [
    "# loading Data\n",
    "q = '''select * from dis_res'''\n",
    "df = pd.read_sql(q,engine)\n",
    "X = df['message']\n",
    "y_cols = df.drop(labels=['id','message','original','genre'],axis=1).columns\n",
    "y = df[y_cols]"
   ]
  },
  {
   "cell_type": "markdown",
   "metadata": {},
   "source": [
    "#### 2) function to tokenization of 'message' "
   ]
  },
  {
   "cell_type": "code",
   "execution_count": 5,
   "metadata": {},
   "outputs": [],
   "source": [
    "def tokenize(text):\n",
    "    text = text.lower()\n",
    "    text = re.sub(r\"[^a-zA-Z0-9]\", \" \", text) \n",
    "    text = word_tokenize(text) \n",
    "    text = [w for w in text if w not in stopwords.words(\"english\")]\n",
    "    text = [WordNetLemmatizer().lemmatize(w) for w in text]\n",
    "    \n",
    "    return text"
   ]
  },
  {
   "cell_type": "markdown",
   "metadata": {},
   "source": [
    "#### 3) Building ML Pipeline"
   ]
  },
  {
   "cell_type": "code",
   "execution_count": 6,
   "metadata": {},
   "outputs": [],
   "source": [
    "pipeline = Pipeline([\n",
    "    ('vect', CountVectorizer(tokenizer=tokenize)),\n",
    "    ('tfidf', TfidfTransformer()),\n",
    "    ('clf', MultiOutputClassifier(RandomForestClassifier()))\n",
    "])"
   ]
  },
  {
   "cell_type": "markdown",
   "metadata": {},
   "source": [
    "#### 4) split data and train pipeline"
   ]
  },
  {
   "cell_type": "code",
   "execution_count": 7,
   "metadata": {},
   "outputs": [],
   "source": [
    "X_train, X_test, y_train, y_test = train_test_split(X,y)"
   ]
  },
  {
   "cell_type": "code",
   "execution_count": 8,
   "metadata": {},
   "outputs": [
    {
     "data": {
      "text/plain": [
       "Pipeline(memory=None,\n",
       "         steps=[('vect',\n",
       "                 CountVectorizer(analyzer='word', binary=False,\n",
       "                                 decode_error='strict',\n",
       "                                 dtype=<class 'numpy.int64'>, encoding='utf-8',\n",
       "                                 input='content', lowercase=True, max_df=1.0,\n",
       "                                 max_features=None, min_df=1,\n",
       "                                 ngram_range=(1, 1), preprocessor=None,\n",
       "                                 stop_words=None, strip_accents=None,\n",
       "                                 token_pattern='(?u)\\\\b\\\\w\\\\w+\\\\b',\n",
       "                                 tokenizer=<function tokenize at...\n",
       "                                                                        ccp_alpha=0.0,\n",
       "                                                                        class_weight=None,\n",
       "                                                                        criterion='gini',\n",
       "                                                                        max_depth=None,\n",
       "                                                                        max_features='auto',\n",
       "                                                                        max_leaf_nodes=None,\n",
       "                                                                        max_samples=None,\n",
       "                                                                        min_impurity_decrease=0.0,\n",
       "                                                                        min_impurity_split=None,\n",
       "                                                                        min_samples_leaf=1,\n",
       "                                                                        min_samples_split=2,\n",
       "                                                                        min_weight_fraction_leaf=0.0,\n",
       "                                                                        n_estimators=100,\n",
       "                                                                        n_jobs=None,\n",
       "                                                                        oob_score=False,\n",
       "                                                                        random_state=None,\n",
       "                                                                        verbose=0,\n",
       "                                                                        warm_start=False),\n",
       "                                       n_jobs=None))],\n",
       "         verbose=False)"
      ]
     },
     "execution_count": 8,
     "metadata": {},
     "output_type": "execute_result"
    }
   ],
   "source": [
    "pipeline.fit(X_train,y_train)"
   ]
  },
  {
   "cell_type": "code",
   "execution_count": 9,
   "metadata": {},
   "outputs": [],
   "source": [
    "y_pred = pipeline.predict(X_test)"
   ]
  },
  {
   "cell_type": "markdown",
   "metadata": {},
   "source": [
    "#### 5) Testing Results"
   ]
  },
  {
   "cell_type": "code",
   "execution_count": 10,
   "metadata": {},
   "outputs": [
    {
     "name": "stdout",
     "output_type": "stream",
     "text": [
      "                        precision    recall  f1-score   support\n",
      "\n",
      "               related       0.84      0.93      0.88      4934\n",
      "               request       0.84      0.50      0.63      1093\n",
      "                 offer       0.00      0.00      0.00        32\n",
      "           aid_related       0.75      0.70      0.72      2669\n",
      "          medical_help       0.67      0.07      0.13       539\n",
      "      medical_products       0.83      0.07      0.13       351\n",
      "     search_and_rescue       0.56      0.05      0.09       182\n",
      "              security       0.33      0.01      0.02       121\n",
      "              military       0.48      0.07      0.11       215\n",
      "           child_alone       0.00      0.00      0.00         0\n",
      "                 water       0.91      0.33      0.49       431\n",
      "                  food       0.84      0.60      0.70       693\n",
      "               shelter       0.81      0.34      0.48       555\n",
      "              clothing       0.50      0.06      0.10       109\n",
      "                 money       0.71      0.03      0.06       154\n",
      "        missing_people       0.00      0.00      0.00        81\n",
      "              refugees       0.67      0.03      0.06       196\n",
      "                 death       0.81      0.13      0.22       304\n",
      "             other_aid       0.59      0.03      0.07       837\n",
      "infrastructure_related       0.00      0.00      0.00       420\n",
      "             transport       0.75      0.09      0.17       288\n",
      "             buildings       0.87      0.14      0.25       325\n",
      "           electricity       0.75      0.02      0.04       134\n",
      "                 tools       0.00      0.00      0.00        45\n",
      "             hospitals       0.00      0.00      0.00        71\n",
      "                 shops       0.00      0.00      0.00        38\n",
      "           aid_centers       0.00      0.00      0.00        65\n",
      "  other_infrastructure       0.50      0.00      0.01       289\n",
      "       weather_related       0.84      0.72      0.78      1790\n",
      "                floods       0.91      0.44      0.59       543\n",
      "                 storm       0.75      0.58      0.65       583\n",
      "                  fire       0.50      0.01      0.03        75\n",
      "            earthquake       0.89      0.79      0.84       607\n",
      "                  cold       1.00      0.09      0.16       139\n",
      "         other_weather       0.69      0.02      0.05       361\n",
      "         direct_report       0.79      0.36      0.49      1231\n",
      "\n",
      "             micro avg       0.82      0.53      0.64     20500\n",
      "             macro avg       0.57      0.20      0.25     20500\n",
      "          weighted avg       0.76      0.53      0.57     20500\n",
      "           samples avg       0.64      0.47      0.49     20500\n",
      "\n"
     ]
    },
    {
     "name": "stderr",
     "output_type": "stream",
     "text": [
      "C:\\ProgramData\\Anaconda3\\lib\\site-packages\\sklearn\\metrics\\_classification.py:1272: UndefinedMetricWarning: Precision and F-score are ill-defined and being set to 0.0 in labels with no predicted samples. Use `zero_division` parameter to control this behavior.\n",
      "  _warn_prf(average, modifier, msg_start, len(result))\n",
      "C:\\ProgramData\\Anaconda3\\lib\\site-packages\\sklearn\\metrics\\_classification.py:1272: UndefinedMetricWarning: Recall and F-score are ill-defined and being set to 0.0 in labels with no true samples. Use `zero_division` parameter to control this behavior.\n",
      "  _warn_prf(average, modifier, msg_start, len(result))\n",
      "C:\\ProgramData\\Anaconda3\\lib\\site-packages\\sklearn\\metrics\\_classification.py:1272: UndefinedMetricWarning: Precision and F-score are ill-defined and being set to 0.0 in samples with no predicted labels. Use `zero_division` parameter to control this behavior.\n",
      "  _warn_prf(average, modifier, msg_start, len(result))\n",
      "C:\\ProgramData\\Anaconda3\\lib\\site-packages\\sklearn\\metrics\\_classification.py:1272: UndefinedMetricWarning: Recall and F-score are ill-defined and being set to 0.0 in samples with no true labels. Use `zero_division` parameter to control this behavior.\n",
      "  _warn_prf(average, modifier, msg_start, len(result))\n"
     ]
    }
   ],
   "source": [
    "print(classification_report(y_test,y_pred,target_names = y_cols))"
   ]
  },
  {
   "cell_type": "markdown",
   "metadata": {},
   "source": [
    "#### 6) improving model with grid search  "
   ]
  },
  {
   "cell_type": "code",
   "execution_count": 31,
   "metadata": {},
   "outputs": [],
   "source": [
    "parameters2 = {\n",
    "        'clf__estimator__criterion':['gini','entropy'],  \n",
    "        'clf__estimator__min_samples_split':[10,110],\n",
    "        'clf__estimator__max_depth':[None,100,500]\n",
    "              }\n",
    "#run time greatly increases with these paramaters for the sake of completion of the project skipped to less demanding parameters"
   ]
  },
  {
   "cell_type": "code",
   "execution_count": 25,
   "metadata": {},
   "outputs": [],
   "source": [
    "parameters = {\n",
    "        'clf__estimator__n_estimators': [50]\n",
    "        }"
   ]
  },
  {
   "cell_type": "code",
   "execution_count": 26,
   "metadata": {},
   "outputs": [],
   "source": [
    "cv = GridSearchCV(pipeline, param_grid=parameters)"
   ]
  },
  {
   "cell_type": "code",
   "execution_count": 27,
   "metadata": {},
   "outputs": [],
   "source": [
    "best_model = cv.fit(X_train,y_train)"
   ]
  },
  {
   "cell_type": "code",
   "execution_count": 29,
   "metadata": {},
   "outputs": [],
   "source": [
    "y_pred = best_model.predict(X_test)"
   ]
  },
  {
   "cell_type": "code",
   "execution_count": 30,
   "metadata": {},
   "outputs": [
    {
     "name": "stdout",
     "output_type": "stream",
     "text": [
      "                        precision    recall  f1-score   support\n",
      "\n",
      "               related       0.84      0.93      0.88      4934\n",
      "               request       0.83      0.48      0.61      1093\n",
      "                 offer       0.00      0.00      0.00        32\n",
      "           aid_related       0.76      0.68      0.72      2669\n",
      "          medical_help       0.67      0.08      0.15       539\n",
      "      medical_products       0.79      0.07      0.14       351\n",
      "     search_and_rescue       0.64      0.05      0.09       182\n",
      "              security       0.25      0.01      0.02       121\n",
      "              military       0.55      0.08      0.15       215\n",
      "           child_alone       0.00      0.00      0.00         0\n",
      "                 water       0.87      0.35      0.50       431\n",
      "                  food       0.83      0.59      0.69       693\n",
      "               shelter       0.80      0.37      0.50       555\n",
      "              clothing       0.62      0.09      0.16       109\n",
      "                 money       0.75      0.04      0.07       154\n",
      "        missing_people       1.00      0.01      0.02        81\n",
      "              refugees       0.67      0.02      0.04       196\n",
      "                 death       0.79      0.19      0.31       304\n",
      "             other_aid       0.60      0.04      0.07       837\n",
      "infrastructure_related       1.00      0.00      0.00       420\n",
      "             transport       0.77      0.07      0.13       288\n",
      "             buildings       0.81      0.14      0.24       325\n",
      "           electricity       0.73      0.06      0.11       134\n",
      "                 tools       0.00      0.00      0.00        45\n",
      "             hospitals       0.00      0.00      0.00        71\n",
      "                 shops       0.00      0.00      0.00        38\n",
      "           aid_centers       0.00      0.00      0.00        65\n",
      "  other_infrastructure       0.33      0.00      0.01       289\n",
      "       weather_related       0.84      0.69      0.76      1790\n",
      "                floods       0.92      0.44      0.60       543\n",
      "                 storm       0.72      0.56      0.63       583\n",
      "                  fire       0.75      0.04      0.08        75\n",
      "            earthquake       0.89      0.79      0.84       607\n",
      "                  cold       0.82      0.06      0.12       139\n",
      "         other_weather       0.74      0.04      0.07       361\n",
      "         direct_report       0.77      0.35      0.48      1231\n",
      "\n",
      "             micro avg       0.82      0.52      0.64     20500\n",
      "             macro avg       0.62      0.20      0.26     20500\n",
      "          weighted avg       0.78      0.52      0.57     20500\n",
      "           samples avg       0.64      0.46      0.49     20500\n",
      "\n"
     ]
    },
    {
     "name": "stderr",
     "output_type": "stream",
     "text": [
      "C:\\ProgramData\\Anaconda3\\lib\\site-packages\\sklearn\\metrics\\_classification.py:1272: UndefinedMetricWarning: Precision and F-score are ill-defined and being set to 0.0 in labels with no predicted samples. Use `zero_division` parameter to control this behavior.\n",
      "  _warn_prf(average, modifier, msg_start, len(result))\n",
      "C:\\ProgramData\\Anaconda3\\lib\\site-packages\\sklearn\\metrics\\_classification.py:1272: UndefinedMetricWarning: Recall and F-score are ill-defined and being set to 0.0 in labels with no true samples. Use `zero_division` parameter to control this behavior.\n",
      "  _warn_prf(average, modifier, msg_start, len(result))\n",
      "C:\\ProgramData\\Anaconda3\\lib\\site-packages\\sklearn\\metrics\\_classification.py:1272: UndefinedMetricWarning: Precision and F-score are ill-defined and being set to 0.0 in samples with no predicted labels. Use `zero_division` parameter to control this behavior.\n",
      "  _warn_prf(average, modifier, msg_start, len(result))\n",
      "C:\\ProgramData\\Anaconda3\\lib\\site-packages\\sklearn\\metrics\\_classification.py:1272: UndefinedMetricWarning: Recall and F-score are ill-defined and being set to 0.0 in samples with no true labels. Use `zero_division` parameter to control this behavior.\n",
      "  _warn_prf(average, modifier, msg_start, len(result))\n"
     ]
    }
   ],
   "source": [
    "print(classification_report(y_test,y_pred,target_names = y_cols))"
   ]
  },
  {
   "cell_type": "code",
   "execution_count": null,
   "metadata": {},
   "outputs": [],
   "source": []
  },
  {
   "cell_type": "markdown",
   "metadata": {},
   "source": [
    "#### 7) Creating a Pickle dump"
   ]
  },
  {
   "cell_type": "code",
   "execution_count": 48,
   "metadata": {},
   "outputs": [],
   "source": [
    "filename = r'C:\\Users\\ogzpython\\Desktop\\ml\\pkls\\dis_res\\model.pkl'"
   ]
  },
  {
   "cell_type": "code",
   "execution_count": 47,
   "metadata": {},
   "outputs": [],
   "source": [
    "pickle.dump(best_model,open(filename,'wb'))"
   ]
  },
  {
   "cell_type": "code",
   "execution_count": 40,
   "metadata": {},
   "outputs": [],
   "source": [
    "# load a model\n",
    "# loaded_model= pickle.load(open(filename,'rb'))\n",
    "# result = loaded_model.score(X_test,Y_test)\n",
    "# print(result)"
   ]
  }
 ],
 "metadata": {
  "kernelspec": {
   "display_name": "Python 3",
   "language": "python",
   "name": "python3"
  },
  "language_info": {
   "codemirror_mode": {
    "name": "ipython",
    "version": 3
   },
   "file_extension": ".py",
   "mimetype": "text/x-python",
   "name": "python",
   "nbconvert_exporter": "python",
   "pygments_lexer": "ipython3",
   "version": "3.7.6"
  }
 },
 "nbformat": 4,
 "nbformat_minor": 4
}
